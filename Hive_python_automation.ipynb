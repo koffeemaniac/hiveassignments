{
 "cells": [
  {
   "cell_type": "code",
   "execution_count": 2,
   "id": "433819f8",
   "metadata": {},
   "outputs": [
    {
     "name": "stdout",
     "output_type": "stream",
     "text": [
      "<pyodbc.Connection object at 0x00000159FB4BED30>\n"
     ]
    }
   ],
   "source": [
    "import pyodbc\n",
    "import pandas as pd\n",
    "import os\n",
    "\n",
    "conn = pyodbc.connect(\"DSN=clouderahive513\",autocommit=True)\n",
    "print(conn)"
   ]
  },
  {
   "cell_type": "code",
   "execution_count": 4,
   "id": "1e1a497b",
   "metadata": {},
   "outputs": [
    {
     "name": "stdout",
     "output_type": "stream",
     "text": [
      "   customers.id customers.name customers.address  customers.salary\n",
      "0             1           dave         123street              3000\n",
      "1             2          ellen          45avenue              2000\n",
      "2             3          kevin      62roadstreet              2222\n",
      "3             4         maggie            82lane              5000\n",
      "   orders.oid orders.date  orders.customer_id  orders.amount\n",
      "0          23  23-03-2021                   3            210\n",
      "1          12  18-04-2022                   5             67\n",
      "2           4  03-12-2021                   2             89\n",
      "3           5  03-12-2021                   2             22\n",
      "4          45  09-09-2020                   6            333\n",
      "5          63  21-10-2021                   4           1627\n"
     ]
    }
   ],
   "source": [
    "curr = conn.cursor()\n",
    "curr.execute(\"use hiveassignment\")\n",
    "customers_df = pd.read_sql(\"select * from customers\",conn)\n",
    "orders_df = pd.read_sql(\"select * from orders\",conn)"
   ]
  },
  {
   "cell_type": "code",
   "execution_count": 19,
   "id": "37ba0486",
   "metadata": {},
   "outputs": [
    {
     "data": {
      "text/html": [
       "<div>\n",
       "<style scoped>\n",
       "    .dataframe tbody tr th:only-of-type {\n",
       "        vertical-align: middle;\n",
       "    }\n",
       "\n",
       "    .dataframe tbody tr th {\n",
       "        vertical-align: top;\n",
       "    }\n",
       "\n",
       "    .dataframe thead th {\n",
       "        text-align: right;\n",
       "    }\n",
       "</style>\n",
       "<table border=\"1\" class=\"dataframe\">\n",
       "  <thead>\n",
       "    <tr style=\"text-align: right;\">\n",
       "      <th></th>\n",
       "      <th>customers.id</th>\n",
       "      <th>customers.name</th>\n",
       "      <th>customers.address</th>\n",
       "      <th>customers.salary</th>\n",
       "    </tr>\n",
       "  </thead>\n",
       "  <tbody>\n",
       "    <tr>\n",
       "      <th>0</th>\n",
       "      <td>1</td>\n",
       "      <td>dave</td>\n",
       "      <td>123street</td>\n",
       "      <td>3000</td>\n",
       "    </tr>\n",
       "    <tr>\n",
       "      <th>1</th>\n",
       "      <td>2</td>\n",
       "      <td>ellen</td>\n",
       "      <td>45avenue</td>\n",
       "      <td>2000</td>\n",
       "    </tr>\n",
       "    <tr>\n",
       "      <th>2</th>\n",
       "      <td>3</td>\n",
       "      <td>kevin</td>\n",
       "      <td>62roadstreet</td>\n",
       "      <td>2222</td>\n",
       "    </tr>\n",
       "    <tr>\n",
       "      <th>3</th>\n",
       "      <td>4</td>\n",
       "      <td>maggie</td>\n",
       "      <td>82lane</td>\n",
       "      <td>5000</td>\n",
       "    </tr>\n",
       "  </tbody>\n",
       "</table>\n",
       "</div>"
      ],
      "text/plain": [
       "   customers.id customers.name customers.address  customers.salary\n",
       "0             1           dave         123street              3000\n",
       "1             2          ellen          45avenue              2000\n",
       "2             3          kevin      62roadstreet              2222\n",
       "3             4         maggie            82lane              5000"
      ]
     },
     "execution_count": 19,
     "metadata": {},
     "output_type": "execute_result"
    }
   ],
   "source": [
    "customers_df"
   ]
  },
  {
   "cell_type": "code",
   "execution_count": 18,
   "id": "943b5509",
   "metadata": {},
   "outputs": [
    {
     "data": {
      "text/html": [
       "<div>\n",
       "<style scoped>\n",
       "    .dataframe tbody tr th:only-of-type {\n",
       "        vertical-align: middle;\n",
       "    }\n",
       "\n",
       "    .dataframe tbody tr th {\n",
       "        vertical-align: top;\n",
       "    }\n",
       "\n",
       "    .dataframe thead th {\n",
       "        text-align: right;\n",
       "    }\n",
       "</style>\n",
       "<table border=\"1\" class=\"dataframe\">\n",
       "  <thead>\n",
       "    <tr style=\"text-align: right;\">\n",
       "      <th></th>\n",
       "      <th>orders.oid</th>\n",
       "      <th>orders.date</th>\n",
       "      <th>orders.customer_id</th>\n",
       "      <th>orders.amount</th>\n",
       "    </tr>\n",
       "  </thead>\n",
       "  <tbody>\n",
       "    <tr>\n",
       "      <th>0</th>\n",
       "      <td>23</td>\n",
       "      <td>23-03-2021</td>\n",
       "      <td>3</td>\n",
       "      <td>210</td>\n",
       "    </tr>\n",
       "    <tr>\n",
       "      <th>1</th>\n",
       "      <td>12</td>\n",
       "      <td>18-04-2022</td>\n",
       "      <td>5</td>\n",
       "      <td>67</td>\n",
       "    </tr>\n",
       "    <tr>\n",
       "      <th>2</th>\n",
       "      <td>4</td>\n",
       "      <td>03-12-2021</td>\n",
       "      <td>2</td>\n",
       "      <td>89</td>\n",
       "    </tr>\n",
       "    <tr>\n",
       "      <th>3</th>\n",
       "      <td>5</td>\n",
       "      <td>03-12-2021</td>\n",
       "      <td>2</td>\n",
       "      <td>22</td>\n",
       "    </tr>\n",
       "    <tr>\n",
       "      <th>4</th>\n",
       "      <td>45</td>\n",
       "      <td>09-09-2020</td>\n",
       "      <td>6</td>\n",
       "      <td>333</td>\n",
       "    </tr>\n",
       "    <tr>\n",
       "      <th>5</th>\n",
       "      <td>63</td>\n",
       "      <td>21-10-2021</td>\n",
       "      <td>4</td>\n",
       "      <td>1627</td>\n",
       "    </tr>\n",
       "  </tbody>\n",
       "</table>\n",
       "</div>"
      ],
      "text/plain": [
       "   orders.oid orders.date  orders.customer_id  orders.amount\n",
       "0          23  23-03-2021                   3            210\n",
       "1          12  18-04-2022                   5             67\n",
       "2           4  03-12-2021                   2             89\n",
       "3           5  03-12-2021                   2             22\n",
       "4          45  09-09-2020                   6            333\n",
       "5          63  21-10-2021                   4           1627"
      ]
     },
     "execution_count": 18,
     "metadata": {},
     "output_type": "execute_result"
    }
   ],
   "source": [
    "orders_df"
   ]
  },
  {
   "cell_type": "code",
   "execution_count": 9,
   "id": "52d2e2d3",
   "metadata": {},
   "outputs": [
    {
     "name": "stdout",
     "output_type": "stream",
     "text": [
      "('airnew', )\n",
      "('airquality', )\n",
      "('airquality3', )\n",
      "('airquality_csv', )\n",
      "('customers', )\n",
      "('orders', )\n",
      "('sales_order_data_csv', )\n",
      "('sales_order_orc', )\n",
      "('t1', )\n",
      "('t2', )\n",
      "('yearpart', )\n"
     ]
    }
   ],
   "source": [
    "curr.execute(\"show tables\")\n",
    "tables = curr.fetchall()\n",
    "for t in tables:\n",
    "    print(t)"
   ]
  },
  {
   "cell_type": "code",
   "execution_count": 7,
   "id": "923ff7ea",
   "metadata": {},
   "outputs": [
    {
     "name": "stdout",
     "output_type": "stream",
     "text": [
      "Column:  id  , Data type:  INT , Nullable:  YES\n",
      "Column:  name  , Data type:  STRING , Nullable:  YES\n",
      "Column:  address  , Data type:  STRING , Nullable:  YES\n",
      "Column:  salary  , Data type:  BIGINT , Nullable:  YES\n"
     ]
    }
   ],
   "source": [
    "for row in curr.columns(table='customers'):\n",
    "    print(\"Column: \",row.column_name,\" , Data type: \",row.type_name,\", Nullable: \",row.is_nullable)"
   ]
  },
  {
   "cell_type": "code",
   "execution_count": 6,
   "id": "95d853b7",
   "metadata": {},
   "outputs": [
    {
     "name": "stdout",
     "output_type": "stream",
     "text": [
      "Column:  oid  , Data type:  INT , Nullable:  YES\n",
      "Column:  date  , Data type:  STRING , Nullable:  YES\n",
      "Column:  customer_id  , Data type:  INT , Nullable:  YES\n",
      "Column:  amount  , Data type:  BIGINT , Nullable:  YES\n"
     ]
    }
   ],
   "source": [
    "for row in curr.columns(table='orders'):\n",
    "    print(\"Column: \",row.column_name,\" , Data type: \",row.type_name,\", Nullable: \",row.is_nullable)"
   ]
  },
  {
   "cell_type": "code",
   "execution_count": 10,
   "id": "0f7c7487",
   "metadata": {},
   "outputs": [
    {
     "data": {
      "text/plain": [
       "[(3, 'kevin', '62roadstreet', 2222, 23, '23-03-2021', 210),\n",
       " (2, 'ellen', '45avenue', 2000, 4, '03-12-2021', 89),\n",
       " (2, 'ellen', '45avenue', 2000, 5, '03-12-2021', 22),\n",
       " (4, 'maggie', '82lane', 5000, 63, '21-10-2021', 1627)]"
      ]
     },
     "execution_count": 10,
     "metadata": {},
     "output_type": "execute_result"
    }
   ],
   "source": [
    "temp_table = \"customer_who_shop\"\n",
    "curr.execute(\"create table if not exists \"+temp_table+\" as select c.id,c.name,c.address,c.salary,o.oid,o.date,o.amount from customers as c join orders as o on c.id = o.customer_id;\")\n",
    "curr.execute(\"select * from \"+temp_table) \n",
    "curr.fetchall()"
   ]
  },
  {
   "cell_type": "code",
   "execution_count": 12,
   "id": "75cf347e",
   "metadata": {},
   "outputs": [
    {
     "name": "stdout",
     "output_type": "stream",
     "text": [
      "   customer_who_shop.id customer_who_shop.name customer_who_shop.address  \\\n",
      "0                     3                  kevin              62roadstreet   \n",
      "1                     2                  ellen                  45avenue   \n",
      "2                     2                  ellen                  45avenue   \n",
      "3                     4                 maggie                    82lane   \n",
      "\n",
      "   customer_who_shop.salary  customer_who_shop.oid customer_who_shop.date  \\\n",
      "0                      2222                     23             23-03-2021   \n",
      "1                      2000                      4             03-12-2021   \n",
      "2                      2000                      5             03-12-2021   \n",
      "3                      5000                     63             21-10-2021   \n",
      "\n",
      "   customer_who_shop.amount  \n",
      "0                       210  \n",
      "1                        89  \n",
      "2                        22  \n",
      "3                      1627  \n"
     ]
    }
   ],
   "source": [
    "joineddf = pd.read_sql(\"select * from \"+temp_table,conn)\n",
    "print(joineddf)"
   ]
  },
  {
   "cell_type": "code",
   "execution_count": 13,
   "id": "e53a6657",
   "metadata": {},
   "outputs": [
    {
     "data": {
      "text/plain": [
       "<pyodbc.Cursor at 0x159fd778130>"
      ]
     },
     "execution_count": 13,
     "metadata": {},
     "output_type": "execute_result"
    }
   ],
   "source": [
    "curr.execute(\"drop table \"+temp_table) "
   ]
  },
  {
   "cell_type": "code",
   "execution_count": 14,
   "id": "be082743",
   "metadata": {},
   "outputs": [
    {
     "name": "stdout",
     "output_type": "stream",
     "text": [
      "('airnew', )\n",
      "('airquality', )\n",
      "('airquality3', )\n",
      "('airquality_csv', )\n",
      "('customers', )\n",
      "('orders', )\n",
      "('sales_order_data_csv', )\n",
      "('sales_order_orc', )\n",
      "('t1', )\n",
      "('t2', )\n",
      "('yearpart', )\n"
     ]
    }
   ],
   "source": [
    "curr.execute(\"show tables\")\n",
    "tables = curr.fetchall()\n",
    "for t in tables:\n",
    "    print(t)"
   ]
  },
  {
   "cell_type": "code",
   "execution_count": 22,
   "id": "0b43e93d",
   "metadata": {},
   "outputs": [
    {
     "data": {
      "text/html": [
       "<div>\n",
       "<style scoped>\n",
       "    .dataframe tbody tr th:only-of-type {\n",
       "        vertical-align: middle;\n",
       "    }\n",
       "\n",
       "    .dataframe tbody tr th {\n",
       "        vertical-align: top;\n",
       "    }\n",
       "\n",
       "    .dataframe thead th {\n",
       "        text-align: right;\n",
       "    }\n",
       "</style>\n",
       "<table border=\"1\" class=\"dataframe\">\n",
       "  <thead>\n",
       "    <tr style=\"text-align: right;\">\n",
       "      <th></th>\n",
       "      <th>customers.id</th>\n",
       "      <th>customers.name</th>\n",
       "      <th>customers.address</th>\n",
       "      <th>customers.salary</th>\n",
       "      <th>orders.oid</th>\n",
       "      <th>orders.date</th>\n",
       "      <th>orders.customer_id</th>\n",
       "      <th>orders.amount</th>\n",
       "    </tr>\n",
       "  </thead>\n",
       "  <tbody>\n",
       "    <tr>\n",
       "      <th>0</th>\n",
       "      <td>2</td>\n",
       "      <td>ellen</td>\n",
       "      <td>45avenue</td>\n",
       "      <td>2000</td>\n",
       "      <td>4</td>\n",
       "      <td>03-12-2021</td>\n",
       "      <td>2</td>\n",
       "      <td>89</td>\n",
       "    </tr>\n",
       "    <tr>\n",
       "      <th>1</th>\n",
       "      <td>2</td>\n",
       "      <td>ellen</td>\n",
       "      <td>45avenue</td>\n",
       "      <td>2000</td>\n",
       "      <td>5</td>\n",
       "      <td>03-12-2021</td>\n",
       "      <td>2</td>\n",
       "      <td>22</td>\n",
       "    </tr>\n",
       "    <tr>\n",
       "      <th>2</th>\n",
       "      <td>3</td>\n",
       "      <td>kevin</td>\n",
       "      <td>62roadstreet</td>\n",
       "      <td>2222</td>\n",
       "      <td>23</td>\n",
       "      <td>23-03-2021</td>\n",
       "      <td>3</td>\n",
       "      <td>210</td>\n",
       "    </tr>\n",
       "    <tr>\n",
       "      <th>3</th>\n",
       "      <td>4</td>\n",
       "      <td>maggie</td>\n",
       "      <td>82lane</td>\n",
       "      <td>5000</td>\n",
       "      <td>63</td>\n",
       "      <td>21-10-2021</td>\n",
       "      <td>4</td>\n",
       "      <td>1627</td>\n",
       "    </tr>\n",
       "  </tbody>\n",
       "</table>\n",
       "</div>"
      ],
      "text/plain": [
       "   customers.id customers.name customers.address  customers.salary  \\\n",
       "0             2          ellen          45avenue              2000   \n",
       "1             2          ellen          45avenue              2000   \n",
       "2             3          kevin      62roadstreet              2222   \n",
       "3             4         maggie            82lane              5000   \n",
       "\n",
       "   orders.oid orders.date  orders.customer_id  orders.amount  \n",
       "0           4  03-12-2021                   2             89  \n",
       "1           5  03-12-2021                   2             22  \n",
       "2          23  23-03-2021                   3            210  \n",
       "3          63  21-10-2021                   4           1627  "
      ]
     },
     "execution_count": 22,
     "metadata": {},
     "output_type": "execute_result"
    }
   ],
   "source": [
    "pd.merge(customers_df,orders_df,left_on='customers.id',right_on='orders.customer_id')"
   ]
  },
  {
   "cell_type": "code",
   "execution_count": 24,
   "id": "031af805",
   "metadata": {},
   "outputs": [
    {
     "data": {
      "text/html": [
       "<div>\n",
       "<style scoped>\n",
       "    .dataframe tbody tr th:only-of-type {\n",
       "        vertical-align: middle;\n",
       "    }\n",
       "\n",
       "    .dataframe tbody tr th {\n",
       "        vertical-align: top;\n",
       "    }\n",
       "\n",
       "    .dataframe thead th {\n",
       "        text-align: right;\n",
       "    }\n",
       "</style>\n",
       "<table border=\"1\" class=\"dataframe\">\n",
       "  <thead>\n",
       "    <tr style=\"text-align: right;\">\n",
       "      <th></th>\n",
       "      <th>customers.id</th>\n",
       "      <th>customers.name</th>\n",
       "      <th>customers.address</th>\n",
       "      <th>customers.salary</th>\n",
       "    </tr>\n",
       "  </thead>\n",
       "  <tbody>\n",
       "    <tr>\n",
       "      <th>0</th>\n",
       "      <td>1</td>\n",
       "      <td>dave</td>\n",
       "      <td>123street</td>\n",
       "      <td>3000</td>\n",
       "    </tr>\n",
       "    <tr>\n",
       "      <th>2</th>\n",
       "      <td>3</td>\n",
       "      <td>kevin</td>\n",
       "      <td>62roadstreet</td>\n",
       "      <td>2222</td>\n",
       "    </tr>\n",
       "    <tr>\n",
       "      <th>3</th>\n",
       "      <td>4</td>\n",
       "      <td>maggie</td>\n",
       "      <td>82lane</td>\n",
       "      <td>5000</td>\n",
       "    </tr>\n",
       "  </tbody>\n",
       "</table>\n",
       "</div>"
      ],
      "text/plain": [
       "   customers.id customers.name customers.address  customers.salary\n",
       "0             1           dave         123street              3000\n",
       "2             3          kevin      62roadstreet              2222\n",
       "3             4         maggie            82lane              5000"
      ]
     },
     "execution_count": 24,
     "metadata": {},
     "output_type": "execute_result"
    }
   ],
   "source": [
    "customers_df[customers_df['customers.salary']>2000]"
   ]
  },
  {
   "cell_type": "code",
   "execution_count": null,
   "id": "b2a72fe3",
   "metadata": {},
   "outputs": [],
   "source": []
  }
 ],
 "metadata": {
  "kernelspec": {
   "display_name": "Python 3",
   "language": "python",
   "name": "python3"
  },
  "language_info": {
   "codemirror_mode": {
    "name": "ipython",
    "version": 3
   },
   "file_extension": ".py",
   "mimetype": "text/x-python",
   "name": "python",
   "nbconvert_exporter": "python",
   "pygments_lexer": "ipython3",
   "version": "3.8.8"
  }
 },
 "nbformat": 4,
 "nbformat_minor": 5
}
